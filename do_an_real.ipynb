{
 "cells": [
  {
   "cell_type": "markdown",
   "id": "899bfea7",
   "metadata": {},
   "source": [
    "# Chữ Nôm recognition, nhưng nó lạ lắm\n",
    "\n",
    "Based on [Kuzushiji Recognition just like Digit Recognition](https://www.kaggle.com/basu369victor/kuzushiji-recognition-just-like-digit-recognition/notebook)"
   ]
  },
  {
   "cell_type": "code",
   "execution_count": null,
   "id": "182ef556",
   "metadata": {},
   "outputs": [],
   "source": [
    "from PIL import Image, ImageDraw, ImageFont\n",
    "from os import listdir\n",
    "import pandas as pd\n",
    "import numpy as np\n",
    "import matplotlib.pyplot as plt\n",
    "import cv2\n",
    "import os\n",
    "from tqdm import tqdm\n",
    "from sklearn.preprocessing import LabelEncoder\n",
    "from keras.utils import np_utils\n",
    "from keras import backend as K\n",
    "from sklearn.model_selection import train_test_split\n",
    "from sklearn.metrics import classification_report\n",
    "from tensorflow.python import keras\n",
    "from keras.layers import Dense, Flatten, Conv2D, Dropout, MaxPooling2D, BatchNormalization,Input\n",
    "from keras.models import Model,load_model\n",
    "from IPython.display import SVG\n",
    "from keras.callbacks import EarlyStopping,ModelCheckpoint\n",
    "from keras.utils.vis_utils import model_to_dot\n",
    "from keras.utils.vis_utils import plot_model\n",
    "#%matplotlib inline"
   ]
  },
  {
   "cell_type": "code",
   "execution_count": null,
   "id": "9d1b3263",
   "metadata": {},
   "outputs": [],
   "source": [
    "fontsize = 50\n",
    "\n",
    "font = ImageFont.truetype('NotoSansCJKjp-Regular.otf', fontsize, encoding = 'utf-8')"
   ]
  },
  {
   "cell_type": "code",
   "execution_count": null,
   "id": "65306bde",
   "metadata": {},
   "outputs": [],
   "source": [
    "df_train = pd.read_csv('train.csv')\n",
    "unicode_map = {codepoint: char for codepoint, char in pd.read_csv('unicode_translate.csv').values}"
   ]
  },
  {
   "cell_type": "code",
   "execution_count": null,
   "id": "e758eb7e",
   "metadata": {},
   "outputs": [],
   "source": [
    "df_train.isnull().sum()"
   ]
  },
  {
   "cell_type": "code",
   "execution_count": null,
   "id": "8dad4204",
   "metadata": {},
   "outputs": [],
   "source": [
    "# Return the image containing the bounding boxes and characters annotated\n",
    "def visualise_training_data(image_fn, labels):\n",
    "    labels = np.array(labels.split(' '))[:-1].reshape(-1, 5)\n",
    "    \n",
    "    imsource = Image.open(image_fn).convert('RGBA')\n",
    "    bbox_canvas = Image.new('RGBA', imsource.size)\n",
    "    char_canvas = Image.new('RGBA', imsource.size)\n",
    "    bbox_draw = ImageDraw.Draw(bbox_canvas)\n",
    "    char_draw = ImageDraw.Draw(char_canvas)\n",
    "    \n",
    "    for label, x1, y1, x2, y2 in labels:\n",
    "        x1, y1, x2, y2 = int(x1), int(y1), int(x2), int(y2)\n",
    "        h, w = abs(x1 - x2), abs(y1 - y2)\n",
    "        \n",
    "        char = unicode_map[label]\n",
    "        \n",
    "        bbox_draw.rectangle((x1, y1, x2, y2), fill = (255, 255, 255, 0), outline = (255, 0, 0, 255))\n",
    "        char_draw.text((x1 + w + fontsize / 4, y1 + h/2 - fontsize), char, fill = (0, 0, 255, 255), font = font)\n",
    "        \n",
    "        cropped_image = imsource.crop((x1, y1, x2, y2))\n",
    "        plt.figure()\n",
    "        print(char)\n",
    "        plt.imshow(cropped_image)\n",
    "        plt.show()\n",
    "    \n",
    "    imsource = Image.alpha_composite(Image.alpha_composite(imsource, bbox_canvas), char_canvas)\n",
    "    imsource = imsource.convert('RGB')\n",
    "    \n",
    "    return np.asarray(imsource)"
   ]
  },
  {
   "cell_type": "code",
   "execution_count": null,
   "id": "de2ca00d",
   "metadata": {},
   "outputs": [],
   "source": [
    "np.random.seed(1337)\n",
    "\n",
    "for i in range(1):\n",
    "    img, labels = df_train.values[np.random.randint(len(df_train))]\n",
    "    visualise = visualise_training_data('data_real/img/{}'.format(img), labels)\n",
    "    \n",
    "    plt.figure(figsize = (15, 15))\n",
    "    plt.title(img)\n",
    "    plt.imshow(visualise, interpolation = 'lanczos')\n",
    "    plt.show()"
   ]
  },
  {
   "cell_type": "code",
   "execution_count": null,
   "id": "6963f21c",
   "metadata": {},
   "outputs": [],
   "source": [
    "def preprocessImage(image):\n",
    "    ret, th1 = cv2.threshold(image, 155, 255, cv2.THRESH_BINARY)"
   ]
  },
  {
   "cell_type": "code",
   "execution_count": null,
   "id": "4cde220d",
   "metadata": {},
   "outputs": [],
   "source": [
    "def ExtractData():\n",
    "    X_, Y_ = [], []\n",
    "    \n",
    "    for img, labels in tqdm(df_train[:420].values):\n",
    "        try:\n",
    "            image_fn = 'data_real/img/{}'.format(img)\n",
    "            labels = np.array(labels.split(' '))[:-1].reshape(-1, 5)\n",
    "    \n",
    "            imsource = Image.open(image_fn).convert('RGBA')\n",
    "            bbox_canvas = Image.new('RGBA', imsource.size)\n",
    "            char_canvas = Image.new('RGBA', imsource.size)\n",
    "            bbox_draw = ImageDraw.Draw(bbox_canvas)\n",
    "            char_draw = ImageDraw.Draw(char_canvas)\n",
    "\n",
    "            for label, x1, y1, x2, y2 in labels:\n",
    "                x1, y1, x2, y2 = int(x1), int(y1), int(x2), int(y2)\n",
    "                h, w = abs(x1 - x2), abs(y1 - y2)\n",
    "\n",
    "                char = unicode_map[label]\n",
    "\n",
    "                cropped_image = imsource.crop((x1, y1, x2, y2))\n",
    "                image = cropped_image.resize((300, 300))\n",
    "                image = np.asarray(image)\n",
    "                image = cv2.cvtColor(image, cv2.COLOR_RGB2GRAY)\n",
    "                ret, th1 = cv2.threshold(image, 155, 255, cv2.THRESH_BINARY_INV)\n",
    "\n",
    "                X_.append(th1)\n",
    "                Y_.append(str(char))\n",
    "        except:\n",
    "            pass\n",
    "        \n",
    "    X_ = np.array(X_)\n",
    "    Y_ = np.array(Y_)"
   ]
  },
  {
   "cell_type": "code",
   "execution_count": null,
   "id": "449f6b29",
   "metadata": {},
   "outputs": [],
   "source": [
    "XX_, yy_ = ExtractData()\n",
    "\n",
    "plt.figure()\n",
    "plt.imshow(XX_[99])"
   ]
  },
  {
   "cell_type": "code",
   "execution_count": null,
   "id": "13d1a39e",
   "metadata": {},
   "outputs": [],
   "source": []
  }
 ],
 "metadata": {
  "kernelspec": {
   "display_name": "Python 3 (ipykernel)",
   "language": "python",
   "name": "python3"
  },
  "language_info": {
   "codemirror_mode": {
    "name": "ipython",
    "version": 3
   },
   "file_extension": ".py",
   "mimetype": "text/x-python",
   "name": "python",
   "nbconvert_exporter": "python",
   "pygments_lexer": "ipython3",
   "version": "3.9.7"
  }
 },
 "nbformat": 4,
 "nbformat_minor": 5
}
